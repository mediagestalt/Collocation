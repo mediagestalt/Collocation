{
 "cells": [
  {
   "cell_type": "markdown",
   "metadata": {},
   "source": [
    "# Collocational Analysis"
   ]
  },
  {
   "cell_type": "markdown",
   "metadata": {},
   "source": [
    "\"You shall know a word by the company it keeps!\" These are the oft-quoted words of the linguist J.R. Firth in describing the meaning and spirit of collocational analysis. Collocation is a linguistic term for co-occuring. While most words have the possibility of co-occuring with most other words at some point in the English language, when there is a significant statistical relationship between two regularly co-occuring words, we can refer to these as collocates. One of the first, and most cited examples of collocational analysis concerns the words `strong` and `powerful`. While both words mean arguably the same thing, it is statistically more common to see the word `strong` co-occur with the word `tea`. Native speakers of English can immediately recognize the familiarity of `strong tea` as opposed to `powerful tea`, even though the two phrases both make sense in their own way (see Halliday, 1966 for more of this discussion). Interestingly, the same associations do not occur with the phrases `strong men` and `powerful men`, although in these instances, both phrases take on slightly different meanings.\n",
    "\n",
    "These examples highlight the belief of Firthian linguists that the meaning of a word is not confined to the word itself, but in the associations that words have with other co-occuring words. Statistically significant collocates need not be adjacent, just proximal. The patterns of the words in a text, rather than the individual words themselves, have complex, relational units of meaning that allow us to ask questions about the use of lanugage in specific discourses.\n",
    "\n",
    "In this exercise we will determine the statistical significance of the words that most often co-occur with `privacy` in an attempt to better understand the meaning of the word as it is used in the Hansard Corpus. We will count the actual frequency of the co-occurence, as well as use a number of different statistical tests of probability. These tests will be conducted first on one file from the corpus, then on the entire corpus itself. "
   ]
  },
  {
   "cell_type": "markdown",
   "metadata": {},
   "source": [
    "### Part 1: Collocational analysis on one file"
   ]
  },
  {
   "cell_type": "markdown",
   "metadata": {},
   "source": [
    "This section will determine the statistically significant collocates that accompany the word `privacy` in the file for 2015. Testing file-by-file allows us to track the diachronic (time-based) change and use of the words."
   ]
  },
  {
   "cell_type": "markdown",
   "metadata": {},
   "source": [
    "Again, we'll begin by calling on all the <span style=\"cursor:help;\" title=\"a set of instructions that performs a specific task\"><b>functions</b></span> we will need. Remember that the first few sentences are calling on pre-installed <i>Python</i> <span style=\"cursor:help;\" title=\"packages of functions and code that serve specific purposes\"><b>modules</b></span>, and anything with a `def` at the beginning is a custom function built specifically for these exercises. The text in red describes the purpose of the function."
   ]
  },
  {
   "cell_type": "code",
   "execution_count": 1,
   "metadata": {
    "collapsed": false
   },
   "outputs": [],
   "source": [
    "# This is where the modules are imported\n",
    "import csv\n",
    "import sys\n",
    "import codecs\n",
    "import nltk\n",
    "import nltk.collocations\n",
    "import collections\n",
    "import statistics\n",
    "from nltk.metrics.spearman import *\n",
    "from nltk.collocations import *\n",
    "from nltk.stem import WordNetLemmatizer\n",
    "from os import listdir\n",
    "from os.path import splitext\n",
    "from os.path import basename\n",
    "from tabulate import tabulate\n",
    "\n",
    "# These functions iterate through the directory and create a list of filenames\n",
    "\n",
    "def list_textfiles(directory):\n",
    "    \"Return a list of filenames ending in '.txt'\"\n",
    "    textfiles = []\n",
    "    for filename in listdir(directory):\n",
    "        if filename.endswith(\".txt\"):\n",
    "            textfiles.append(directory + \"/\" + filename)\n",
    "    return textfiles\n",
    "\n",
    "\n",
    "def remove_ext(filename):\n",
    "    \"Removes the file extension, such as .txt\"\n",
    "    name, extension = splitext(filename)\n",
    "    return name\n",
    "\n",
    "\n",
    "def remove_dir(filepath):\n",
    "    \"Removes the path from the file name\"\n",
    "    name = basename(filepath)\n",
    "    return name\n",
    "\n",
    "\n",
    "def get_filename(filepath):\n",
    "    \"Removes the path and file extension from the file name\"\n",
    "    filename = remove_ext(filepath)\n",
    "    name = remove_dir(filename)\n",
    "    return name\n",
    "\n",
    "# This function works on the contents of the files\n",
    "\n",
    "def read_file(filename):\n",
    "    \"Read the contents of FILENAME and return as a string.\"\n",
    "    infile = codecs.open(filename, 'r', 'utf-8')\n",
    "    contents = infile.read()\n",
    "    infile.close()\n",
    "    return contents"
   ]
  },
  {
   "cell_type": "markdown",
   "metadata": {},
   "source": [
    "Collocational analysis is a frequency-based technique that uses word counts to determine significance. One of the problems with counting word frequencies, as we have seen in other sections, is that the most frequently occuring words in English are function words, like `the`, `of`, and `and`. For this reason, it is neccessary to remove these words in order to obtain meaningful results. In text analysis, these high frequency words are compiled into lists called `stopwords`. While standard stopword lists are provided by the `NLTK` module, for the Hansard Corpus it was necessary to remove other kinds of words, like proper nouns (names and place names), and other words common to parliamentary proceedings (like Prime Minister, Speaker, etc.). These words, along with the standard stopwords, can be seen below.\n",
    "\n",
    "Here, we use our `read_file` function to read in a text file of custom stopwords, assigning the variable `customStopwords`. We tokenize the list using the `split` function and then create a variable called `hansardStopwords` that incorporates the `NLTK` stopword list, and adding the words from `customStopwords` if they don't already occur in the `NLTK` list."
   ]
  },
  {
   "cell_type": "code",
   "execution_count": 2,
   "metadata": {
    "collapsed": false
   },
   "outputs": [],
   "source": [
    "stopwords = read_file('HansardStopwords.txt')\n",
    "customStopwords = stopwords.split()\n",
    "\n",
    "#default stopwords with custom words added\n",
    "hansardStopwords = nltk.corpus.stopwords.words('english') \n",
    "hansardStopwords += customStopwords"
   ]
  },
  {
   "cell_type": "code",
   "execution_count": 3,
   "metadata": {
    "collapsed": false
   },
   "outputs": [
    {
     "name": "stdout",
     "output_type": "stream",
     "text": [
      "['i', 'me', 'my', 'myself', 'we', 'our', 'ours', 'ourselves', 'you', 'your', 'yours', 'yourself', 'yourselves', 'he', 'him', 'his', 'himself', 'she', 'her', 'hers', 'herself', 'it', 'its', 'itself', 'they', 'them', 'their', 'theirs', 'themselves', 'what', 'which', 'who', 'whom', 'this', 'that', 'these', 'those', 'am', 'is', 'are', 'was', 'were', 'be', 'been', 'being', 'have', 'has', 'had', 'having', 'do', 'does', 'did', 'doing', 'a', 'an', 'the', 'and', 'but', 'if', 'or', 'because', 'as', 'until', 'while', 'of', 'at', 'by', 'for', 'with', 'about', 'against', 'between', 'into', 'through', 'during', 'before', 'after', 'above', 'below', 'to', 'from', 'up', 'down', 'in', 'out', 'on', 'off', 'over', 'under', 'again', 'further', 'then', 'once', 'here', 'there', 'when', 'where', 'why', 'how', 'all', 'any', 'both', 'each', 'few', 'more', 'most', 'other', 'some', 'such', 'no', 'nor', 'not', 'only', 'own', 'same', 'so', 'than', 'too', 'very', 's', 't', 'can', 'will', 'just', 'don', 'should', 'now', 'a', 'abbott', 'abitibi', 'ablonczy', 'about', 'above', 'acadie', 'accordance', 'according', 'act', 'acting', 'addington', 'adler', 'after', 'again', 'against', 'agencies', 'aglukkaq', 'agriculture', 'alan', 'albas', 'albrecht', 'alexandrine', 'alfred', 'algoma', 'all', 'allen', 'allison', 'also', 'am', 'ambler', 'ambrose', 'an', 'ancaster', 'and', 'anders', 'anderson', 'andre', 'andrew', 'andrews', 'angus', 'angus:', 'anita', 'ann', 'anthony', 'any', 'arctic', 'are', 'arent', 'argenteuil', 'armstrong', 'arthur', 'as', 'ashfield', 'ashton', 'aspin', 'asselin', 'assistant', 'at', 'atamanenko', 'aubin', 'aurora', 'avalon', 'aylmer', 'bachand', 'back', 'bagnell', 'baie', 'bains', 'baird', 'barbe', 'barlow', 'barlow', 'barrie', 'barry', 'basques', 'bateman', 'bathurst', 'bay', 'be', 'beauce', 'beaudin', 'because', 'been', 'before', 'being', 'belanger', 'bellavance', 'bellechasse', 'below', 'belt', 'bennett', 'benoit', 'ber', 'bernard', 'bernier', 'between', 'bevington', 'bezan', 'biggar', 'bigras', 'bill', 'blackburn', 'blainville', 'blais', 'blake', 'blanchette', 'blaney', 'bloc', 'block', 'board', 'bob', 'bonavista', 'boniface', 'bonsant', 'borduas', 'borg', 'boshcoff', 'both', 'bouchard', 'boucher', 'boughen', 'bourassa', 'bourgeois', 'boutin', 'bq', 'braid', 'brampton', 'breitkreuz', 'breton', 'brian', 'brison', 'british', 'brock', 'brown', 'bruce', 'bruinooge', 'brunelle', 'bruno', 'bryan', 'bryon', 'bulkley', 'bureau', 'burin', 'burnaby', 'but', 'by', 'byrne', 'cadman', 'calandra', 'calgary', 'calkins', 'cambridge', 'can', 'canada', 'canadian', 'canadians', 'cannan', 'cannis', 'cannon', 'cannot', 'canso', 'cant', 'cape', 'cardin', 'cariboo', 'carleton', 'carmichael', 'carol', 'carole', 'caron', 'carrie', 'carrier', 'cartier', 'cash', 'casson', 'catharines', 'cathy', 'cavoukian', 'central', 'centre', 'chambly', 'champlain', 'chantal', 'charlevoix', 'charlie', 'charlottetown', 'charlton', 'charmaine', 'châteauguay', 'chaudiere', 'chicoutimi', 'chief', 'chisu', 'chong', 'chow', 'christian', 'christiane', 'christopherson', 'chuck', 'chungsen', 'churchill', 'chutes', 'clarke', 'claude', 'clement', 'coady', 'coast', 'coderre', 'colchester', 'cole', 'colin', 'colleague', 'columbia', 'comartin', 'commission', 'commissioner', 'commissioners', 'committee', 'commons', 'communities', 'conestoga', 'conservative', 'conservatives', 'constant', 'cooksville', 'coquitlam', 'corneliu', 'costas', 'cote', 'cotler', 'could', 'couldnt', 'country', 'cpc', 'craig', 'creek', 'crockatt', 'crombie', 'crowder', 'crowfoot', 'cullen', 'cumberland', 'cummins', 'cuzner', 'cyr', 'dame', 'damours', 'dan', 'danforth', 'daniel', 'dartmouth', 'daryl', 'dauphin', 'dave', 'davenport', 'david', 'davidson', 'davies', 'day', 'de', 'dean', 'debate', 'debellefeuille', 'dechert', 'deepak', 'del', 'delta', 'demers', 'democratic', 'denis', 'denise', 'dennis', 'des', 'desnoyers', 'devolin', 'dewar', 'dhaliwal', 'dhalla', 'diane', 'did', 'didnt', 'dieppe', 'dion', 'do', 'does', 'doesnt', 'doing', 'dollard', 'don', 'donnelly', 'dont', 'dore', 'dorion', 'dosanjh', 'douglas', 'down', 'dreeshen', 'drummond', 'dryden', 'duceppe', 'dufour', 'duncan', 'dundas', 'during', 'dykstra', 'each', 'east', 'easter', 'eastern', 'ed', 'edmonton', 'edward', 'eeyou', 'eglinski', 'eglinton', 'elgin', 'english', 'epp', 'esquimalt', 'essex', 'etobicoke', 'eyking', 'fabian', 'faille', 'falls', 'fanshawe', 'fantino', 'fast', 'federal', 'few', 'finance', 'findlay', 'finley', 'first', 'fjord', 'flaherty', 'flamborough', 'fletcher', 'folco', 'foote', 'for', 'forward', 'francis', 'freeman', 'from', 'frontenac', 'fry', 'fundy', 'further', 'gagnon', 'galipeau', 'gallant', 'gander', 'garneau', 'garrison', 'gatineau', 'gaudet', 'genereux', 'geoff', 'george', 'georges', 'gerald', 'gerard', 'get', 'gill', 'gilles', 'glen', 'glengarry', 'glover', 'go', 'godfrey', 'godin', 'goguen', 'going', 'goldring', 'goodale', 'goodyear', 'gordon', 'gourde', 'government', 'grâce', 'grand', 'gravelle', 'greg', 'grenville', 'grewal', 'groguhe', 'guarnieri', 'guay', 'guelph', 'guergis', 'guildwood', 'guimond', 'guy', 'had', 'hadnt', 'haliburton', 'halifax', 'hall', 'hamilton', 'hants', 'harbour', 'harold', 'harper', 'harris', 'harvey', 'has', 'hasnt', 'hassainia', 'hastings', 'hat', 'haute', 'have', 'havent', 'having', 'hawn', 'hayes', 'he', 'hearn', 'hebert', 'hed', 'hedy', 'hell', 'her', 'here', 'heres', 'heritage', 'hers', 'herself', 'hes', 'hiebert', 'hill', 'hillyer', 'him', 'himself', 'his', 'hoback', 'hochelaga', 'hoeppner', 'holder', 'holland', 'hon', 'house', 'how', 'however', 'hows', 'hsu', 'hubert', 'hughes', 'hull', 'humber', 'hyer', 'i', 'id', 'if', 'ignatieff', 'iles', 'îles', 'ill', 'im', 'in', 'including', 'ind', 'infrastructure', 'interim', 'interlake', 'into', 'irene', 'irwin', 'is', 'island', 'islands', 'isnt', 'it', 'its', 'its', 'itself', 'ive', 'jack', 'jacques', 'james', 'jay', 'jean', 'jeanne', 'jeff', 'jennifer', 'jennings', 'jim', 'jinny', 'joan', 'joe', 'jogindera', 'john', 'johns', 'joliette', 'jonathan', 'jones', 'josee', 'joseph', 'joy', 'joyce', 'juan', 'judy', 'julian', 'just', 'justin', 'kamp', 'kania', 'kapuskasing', 'karen', 'karygiannis', 'kawartha', 'keddy', 'keith', 'kelly', 'kelowna', 'ken', 'kennedy', 'kenney', 'kenora', 'kent', 'kerr', 'kesteren', 'kevin', 'kildonan', 'kings', 'kingston', 'kingsway', 'kirsty', 'kitchener', 'know', 'komarnicki', 'kramp', 'kyle', 'la', 'labelle', 'labrador', 'lac', 'lachine', 'laforest', 'laframboise', 'lake', 'lakes', 'lalonde', 'lambert', 'lamothe', 'lamoureux', 'lanark', 'last', 'latendresse', 'laurent', 'laurentides', 'laurie', 'laurier', 'laurin', 'lauzon', 'laval', 'lavallee', 'lavar', 'lawrence', 'layton', 'le', 'leader', 'lebel', 'leblanc', 'leduc', 'lee', 'leeds', 'leef', 'lefebvre', 'legislative', 'lemay', 'lemieux', 'lennox', 'leon', 'leona', 'les', 'leslie', 'lessard', 'lets', 'letter', 'leung', 'levesque', 'levis', 'lib', 'libby', 'liberal', 'like', 'lile', 'linda', 'lise', 'liu', 'lizon', 'loan', 'lobb', 'london', 'longueuil', 'lotbiniere', 'louis', 'loyola', 'luc', 'lukiwski', 'lunn', 'lunney', 'lysane', 'macaulay', 'mackay', 'mackenzie', 'mactaquac', 'made', 'make', 'malcolm', 'malhi', 'malo', 'maloway', 'malpeque', 'manicouagan', 'manitoulin', 'manning', 'many', 'maple', 'marc', 'margarets', 'marie', 'mario', 'marjolaine', 'mark', 'markham', 'marlene', 'marquette', 'marston', 'martin', 'masse', 'mastro', 'mathieu', 'mathyssen', 'maurice', 'mauril', 'mayes', 'mccallum', 'mccoleman', 'mcguinty', 'mckay', 'mcleod', 'mcteague', 'me', 'meadows', 'medicine', 'megan', 'meili', 'member', 'members', 'menard', 'mendes', 'menegakis', 'menzies', 'merrifield', 'michael', 'middlesex', 'mike', 'mille', 'miller', 'mills', 'minister', 'minna', 'mirabel', 'mission', 'mississauga', 'mississippi', 'moncton', 'monte', 'montmorency', 'moody', 'moore', 'more', 'morin', 'most', 'motion', 'mount', 'mountain', 'mourani', 'mr', 'ms', 'mulcair', 'murphy', 'murray', 'musquodoboit', 'must', 'mustnt', 'my', 'myself', 'nadeau', 'nathan', 'national', 'navdeep', 'ndp', 'need', 'neigette', 'nepean', 'neville', 'new', 'newfoundland', 'newmarket', 'newton', 'nicholson', 'nickel', 'nicolas', 'nicole', 'niki', 'nipissing', 'no', 'nor', 'nord', 'norlock', 'north', 'northumberland', 'not', 'notre', 'nova', 'now', 'nunavik', 'oak', 'obhrai', 'oconnor', 'oda', 'of', 'off', 'office', 'oliphant', 'on', 'once', 'one', 'oneill', 'only', 'opitz', 'or', 'orleans', 'oshawa', 'other', 'ottawa', 'ouellet', 'ought', 'our', 'ours', 'ourselves', 'out', 'outremont', 'over', 'own', 'oxford', 'pacetti', 'paille', 'palliser', 'papineau', 'paquette', 'paradis', 'park', 'parliament', 'parliamentary', 'parm', 'part', 'party', 'pascal', 'pat', 'patrick', 'patriotes', 'patry', 'paul', 'pauline', 'payne', 'peace', 'pearl', 'pearson', 'pellan', 'people', 'perkins', 'peter', 'peterborough', 'petit', 'phil', 'picard', 'pierre', 'pierrefonds', 'pitt', 'plamondon', 'poilievre', 'pointe', 'pomerleau', 'pontiac', 'port', 'portneuf', 'prentice', 'prescott', 'president', 'preston', 'prime', 'prince', 'proceedings', 'program', 'proulx', 'public', 'put', 'quadra', 'quappelle', 'quebec', 'question', 'quinte', 'rae', 'rafferty', 'rainy', 'raitt', 'rajotte', 'ralph', 'randall', 'random', 'rankin', 'ratansi', 'rathgeber', 'ravignat', 'ray', 'redman', 'reform', 'regan', 'regina', 'reid', 'repentigny', 'richard', 'richards', 'richardson', 'richmond', 'rick', 'rickford', 'ridge', 'ridges', 'rimouski', 'ritz', 'river', 'riverview', 'riviere', 'rivieres', 'rob', 'robert', 'rod', 'rodger', 'rodriguez', 'rona', 'rosane', 'rosetown', 'rota', 'roxanne', 'royal', 'ruby', 'russell', 'ryan', 's', 'sackville', 'sadia', 'said', 'saint', 'sainte', 'same', 'sana', 'saskatoon', 'sault', 'savage', 'savoie', 'saxton', 'say', 'scarborough', 'scarpaleggia', 'scheer', 'schellenberger', 'scott', 'sea', 'secretary', 'see', 'seeback', 'selkirk', 'sgro', 'shant', 'shawn', 'she', 'shea', 'shed', 'shell', 'shelly', 'sherbrooke', 'sherwood', 'shes', 'shipley', 'shore', 'shory', 'should', 'shouldnt', 'siksay', 'silva', 'simcoe', 'simms', 'sims', 'simson', 'siobhan', 'skeena', 'sky', 'smith', 'so', 'solberg', 'some', 'sopuck', 'sorenson', 'soulanges', 'south', 'southeast', 'southwest', 'speaker', 'st', 'stanton', 'stated', 'statutes', 'ste', 'stella', 'stephen', 'steven', 'stoddart', 'stoffer', 'stoney', 'storseth', 'strahl', 'strathcona', 'such', 'sudbury', 'sukh', 'sunshine', 'support', 'susan', 'swan', 'sweet', 'sydney', 'szabo', 'take', 'ted', 'temiscamingue', 'temiscouata', 'terrebonne', 'than', 'that', 'thats', 'the', 'their', 'theirs', 'them', 'themselves', 'then', 'there', 'theres', 'therrien', 'these', 'they', 'theyd', 'theyll', 'theyre', 'theyve', 'thi', 'thibeault', 'thierry', 'think', 'this', 'thomas', 'thompson', 'those', 'through', 'thunder', 'tilson', 'tim', 'time', 'timiskaming', 'timmins', 'to', 'tobique', 'today', 'todd', 'toews', 'told', 'tom', 'tonks', 'tony', 'too', 'toronto', 'translation', 'treasury', 'tremblay', 'trois', 'trost', 'trottier', 'trudeau', 'truppe', 'tweed', 'two', 'ujjal', 'under', 'unionville', 'until', 'up', 'uppal', 'us', 'valcourt', 'valeriote', 'valley', 'van', 'vancouver', 'vaudreuil', 'vaughan', 'vellacott', 'vercheres', 'verner', 'verte', 'very', 'victoria', 'ville', 'vincent', 'volpe', 'wallace', 'want', 'warawa', 'warkentin', 'was', 'wascana', 'wasnt', 'watson', 'way', 'wayne', 'we', 'wed', 'well', 'welland', 'were', 'were', 'werent', 'west', 'westdale', 'western', 'westlock', 'westminster', 'westmount', 'weston', 'westwood', 'weve', 'what', 'whats', 'when', 'whens', 'where', 'wheres', 'which', 'while', 'whip', 'who', 'whom', 'whos', 'why', 'whys', 'wilfert', 'wilks', 'will', 'williamson', 'willowdale', 'windsor', 'winnipeg', 'with', 'wladyslaw', 'wong', 'wont', 'woodworth', 'would', 'wouldnt', 'wrzesnewskyj', 'year', 'years', 'yelich', 'yellowhead', 'york', 'you', 'youd', 'youll', 'young', 'your', 'youre', 'yours', 'yourself', 'yourselves', 'youve', 'yukon', 'yves', 'yvon', 'yvonne', 'zarac', 'zimmer']\n"
     ]
    }
   ],
   "source": [
    "print(hansardStopwords)"
   ]
  },
  {
   "cell_type": "markdown",
   "metadata": {
    "collapsed": true
   },
   "source": [
    "Now, we use `read_file` to load the contents of the file for 2015. For consistency and to avoid file duplication, we're always reading the files from the same directory. Even though it was used for other sections, the data is the same. We read the contents of the text file, then remove the case and punctuation from the text, split the words into a list of tokens, and assign the words in each file to a list with the variable name `text`. What's new here, compared to other sections, is the additional removal of stopwords."
   ]
  },
  {
   "cell_type": "code",
   "execution_count": 4,
   "metadata": {
    "collapsed": false
   },
   "outputs": [],
   "source": [
    "# opens, reads, and tokenizes the file\n",
    "text = read_file('data/2015.txt')\n",
    "words = text.split()\n",
    "clean = [w.lower() for w in words if w.isalpha()]\n",
    "# removes stopwords\n",
    "text = [w for w in clean if w not in hansardStopwords]"
   ]
  },
  {
   "cell_type": "markdown",
   "metadata": {},
   "source": [
    "Another type of processing required for the generation of accurate collocational statistics is called lemmatization. In linguistics, a lemma is the grammatical base or stem of a word. For example, the word `protect` is the lemma of the verbs `protecting` and `protected`, while `ethic` is the lemma of the noun `ethics`. When we lemmatize a text, we are removing the grammatical inflections of the word forms (like `ing` or `ed`). The purpose of lemmatization for the Hansard Corpus is to obtain more accurate statistics for collocation by avoiding multiple entries for similar but different word forms (like protecting, protected, and protect). For the purpose of this text analysis, I have decided to lemmatize only the nouns and verbs in the Hansard Corpus, as the word `privacy` is not easily modified by adjectives (or at all by adverbs). \n",
    "\n",
    "The lemmatizer I have used for this project was developed by Princeton and is called <a href=\"http://wordnetweb.princeton.edu/perl/webwn\" target=\"_blank\">WordNet</a>. Lemmas and their grammatical inflections can be searched using their web interface. \n",
    "\n",
    "In the code below, I load the WordNetLemmatizer (another function included in the `NLTK` module) into the variable `wnl`. Then, I iterate through the text, first lematizing the verbs (shown as `v`), then the nouns (shown as `n`). Unfortunately, the WordNet function only takes one argument, so this code requires two pass-throughs of the text. I'm sure there is a more elegant way to construct this code, though I've not found it yet. This is another reason why I've decided only to lemmatize verbs and nouns, rather than including adjectives and adverbs."
   ]
  },
  {
   "cell_type": "code",
   "execution_count": 5,
   "metadata": {
    "collapsed": false
   },
   "outputs": [],
   "source": [
    "# creates a variable for the lemmatizing function\n",
    "wnl = WordNetLemmatizer()\n",
    "\n",
    "# lemmatizes all of the verbs\n",
    "lemm = []\n",
    "for word in text:\n",
    "    lemm.append(wnl.lemmatize(word, 'v'))\n",
    "\n",
    "# lemmatizes all of the nouns \n",
    "lems = []\n",
    "for word in lemm:\n",
    "    lems.append(wnl.lemmatize(word, 'n'))"
   ]
  },
  {
   "cell_type": "markdown",
   "metadata": {},
   "source": [
    "We need to make sure that the lemmatizer did something. Since we've only lemmatized for nouns and verbs, we check that here against the unlemmatized corpus, where `text` has not been lemmatized and `lems` has. Below we see that noun `ethics` appears <u>156 times</u> in the `text` variable and <u>0 times</u> in the `lems` variable. But the lemma for `ethics`: `ethic`, remains in the `lems` variable for a frequency of <u>161 times</u>. Similar values are repeated for the verb and variations of `protect`."
   ]
  },
  {
   "cell_type": "code",
   "execution_count": 6,
   "metadata": {
    "collapsed": false
   },
   "outputs": [
    {
     "name": "stdout",
     "output_type": "stream",
     "text": [
      "NOUNS\n",
      "ethics: 156\n",
      "ethics: 0\n",
      "ethic: 161\n",
      "\n",
      "\n",
      "VERBS\n",
      "protecting: 737\n",
      "protecting: 0\n",
      "protected: 268\n",
      "protected: 0\n",
      "protect: 3401\n"
     ]
    }
   ],
   "source": [
    "print('NOUNS')\n",
    "print('ethics:', text.count('ethics'))\n",
    "print('ethics:', lems.count('ethics'))\n",
    "print('ethic:', lems.count('ethic'))\n",
    "print('\\n')\n",
    "print('VERBS')\n",
    "print('protecting:', text.count('protecting'))\n",
    "print('protecting:', lems.count('protecting'))\n",
    "print('protected:', text.count('protected'))\n",
    "print('protected:', lems.count('protected'))\n",
    "print('protect:', lems.count('protect'))"
   ]
  },
  {
   "cell_type": "markdown",
   "metadata": {},
   "source": [
    "Here we check that the lemmatizer hasn't been over-zealous by determining the frequency for `privacy` before and after the lemmatizing function. The frequencies are the same, meaning we've not lost anything in the lemmatization."
   ]
  },
  {
   "cell_type": "code",
   "execution_count": 7,
   "metadata": {
    "collapsed": false
   },
   "outputs": [
    {
     "name": "stdout",
     "output_type": "stream",
     "text": [
      "privacy: 806\n",
      "privacy: 806\n"
     ]
    }
   ],
   "source": [
    "print('privacy:', text.count('privacy'))\n",
    "print('privacy:', lems.count('privacy'))"
   ]
  },
  {
   "cell_type": "markdown",
   "metadata": {},
   "source": [
    "#### Part 1.1: Unfocused Bigram Search"
   ]
  },
  {
   "cell_type": "markdown",
   "metadata": {},
   "source": [
    "Let's clarify some of the words we will be using in the rest of this exercise:\n",
    "- `ngram` = catch-all term for multiple word occurences\n",
    "- `bigram` = word pairs\n",
    "- `trigram` = three-word phrases\n",
    "\n",
    "After the stopwords have been removed and the nouns and verbs lemmatized, we are ready to determine statistics for co-occuring words, or collocates. Any collocational test requires four pieces of data: the length of the text in which the words appear, the number of times the words both seperately appear in the text, and the number of times the words occur together.\n",
    "\n",
    "Before we focus our search on the word `privacy`, we will determine the 10 most commonly occuring bigrams (based on frequency) in the 2015 Hansard Corpus. \n",
    "\n",
    "In this code we assign the `lems` variable to `colText` by adding the `nltk.Text` functionality. We can then use the `NLTK` function `collocations` to determine (in this case) the 10 most common bigrams. Changing the number in the brackets will change the number of results returned."
   ]
  },
  {
   "cell_type": "code",
   "execution_count": 8,
   "metadata": {
    "collapsed": false
   },
   "outputs": [
    {
     "name": "stdout",
     "output_type": "stream",
     "text": [
      "small business; child care; supreme court; criminal code; action plan;\n",
      "employment social; health care; foreign affair; social development;\n",
      "spinal cord\n"
     ]
    }
   ],
   "source": [
    "# prints the 10 most common bigrams\n",
    "colText = nltk.Text(lems)\n",
    "colText.collocations(10) "
   ]
  },
  {
   "cell_type": "markdown",
   "metadata": {},
   "source": [
    "For reference, I ran an earlier test that shows the 10 most common bigrams without the stopwords removed. Duplicating this test only requires that stopwords not be removed as the text is being tokenized and cleaned. We can see that there is a clear difference in the types of results returned with and without stopwords applied. The list of words appearing above is much more interesting in terms of discourse analysis, when functional parliamentary phrases like Prime Minister and Parliamentary Secretary have been removed."
   ]
  },
  {
   "cell_type": "raw",
   "metadata": {},
   "source": [
    "prime minister; would like; parliamentary secretary; first nation;\n",
    "public safety; british columbia; act speaker; small business; ontario\n",
    "cpc; new democrat"
   ]
  },
  {
   "cell_type": "markdown",
   "metadata": {},
   "source": [
    "Here is a piece of code that shows how the ngram function works. It goes word by word through the text, pairing each word with the one that came before. That's why the last word in the first word pair becomes the first in the next word pair.\n",
    "\n",
    "We assign our `colText` variable to the `colBigrams` variable by specifiying that we want to make a list of ngrams containing 2 words. We could obtain trigrams by changing the 2 in the first line of code to a 3. Then, in the second line of code, we display the first 5 results of the `colBigrams` variable with :5. We could display the first 10 by changing the number in the square brackets to :10, or show the top 10 results again by removing the colon. "
   ]
  },
  {
   "cell_type": "code",
   "execution_count": 9,
   "metadata": {
    "collapsed": false
   },
   "outputs": [
    {
     "data": {
      "text/plain": [
       "[('official', 'report'),\n",
       " ('report', 'debate'),\n",
       " ('debate', 'volume'),\n",
       " ('volume', 'number'),\n",
       " ('number', 'session')]"
      ]
     },
     "execution_count": 9,
     "metadata": {},
     "output_type": "execute_result"
    }
   ],
   "source": [
    "# creates a list of bigrams (ngrams of 2), printing the first 5\n",
    "colBigrams = list(nltk.ngrams(colText, 2)) \n",
    "colBigrams[:5] "
   ]
  },
  {
   "cell_type": "markdown",
   "metadata": {},
   "source": [
    "Here we will check to make sure we've the bigram function has gone through and counted the entire text. Having one less ngram is correct because of the way in which the ngrams are generated word-by-word in the test above."
   ]
  },
  {
   "cell_type": "code",
   "execution_count": 10,
   "metadata": {
    "collapsed": false
   },
   "outputs": [
    {
     "name": "stdout",
     "output_type": "stream",
     "text": [
      "Number of words: 1367476\n",
      "Number of bigrams: 1367475\n"
     ]
    }
   ],
   "source": [
    "print(\"Number of words:\", len(lems))\n",
    "print(\"Number of bigrams:\", len(colBigrams))"
   ]
  },
  {
   "cell_type": "markdown",
   "metadata": {},
   "source": [
    "#### Part 1.2: Focused Bigram Search"
   ]
  },
  {
   "cell_type": "markdown",
   "metadata": {},
   "source": [
    "In this section we will focus our search on bigrams that contain the word `privacy`. First, we'll load the bigram tests from the `NLTK` module, then, we will create a filter that only searches for bigrams containing `privacy`. To search for bigrams containing other words, the word `privacy` in the second line of code can be changed to something else."
   ]
  },
  {
   "cell_type": "code",
   "execution_count": 11,
   "metadata": {
    "collapsed": false
   },
   "outputs": [],
   "source": [
    "# loads bigram code from NLTK\n",
    "bigram_measures = nltk.collocations.BigramAssocMeasures()\n",
    "\n",
    "# ngrams with 'privacy' as a member\n",
    "privacy_filter = lambda *w: 'privacy' not in w"
   ]
  },
  {
   "cell_type": "markdown",
   "metadata": {},
   "source": [
    "Next, we will load our lemmatized corpus into the bigram collocation finder, apply a frequency filter that only considers bigrams that appear four or more times, and then apply our privacy filter to the results. The variable `finder` now contains a list of all the bigrams containing `privacy` that occur four or more times."
   ]
  },
  {
   "cell_type": "code",
   "execution_count": 12,
   "metadata": {
    "collapsed": false
   },
   "outputs": [],
   "source": [
    "# bigrams\n",
    "finder = BigramCollocationFinder.from_words(lems)\n",
    "# only bigrams that appear 4+ times\n",
    "finder.apply_freq_filter(4)\n",
    "# only bigrams that contain 'privacy'\n",
    "finder.apply_ngram_filter(privacy_filter)"
   ]
  },
  {
   "cell_type": "markdown",
   "metadata": {},
   "source": [
    "##### Distribution\n",
    "\n",
    "Before I describe the statistical tests that we will use to determine the collocates for `privacy`, it is important to briefly discuss distribution. The chart below maps the distribution of the top 25 terms in the 2015 file.  \n",
    "\n",
    "This is important because some of the tests assume a normal distribution of words in the text. A normal distribution means that the majority of the words occur a majority of the time; it is represented in statistics as a bell curve. This means that 68% of the words would occur within one standard deviation of the mean (or average frequency of each word in the text), 95% within two standard deviations, and 99.7 within three standard deviations. \n",
    "\n",
    "What this means, is that tests that assume a normal distribution will work, but have inaccurate statistics to back them up. I've chosen to describe all of the collocational tests here as a matter of instruction and description, but it's important to understand the tests and what they assume before making research claims based on their results.\n",
    "\n",
    "The code below calls on the `NLTK` function `FreqDist`. The function calculates the frequency of all the words in the variable and charts them in order from highest to lowest. Here I've only requested the first 25, though more or less can be displayed by changing the number in the brackets. Additionally, in order to have the chart displayed inline (and not as a popup), I've called the <i>magic</i> function `matplotlib inline`. <i>iPython</i> magic functions are identifable by the <b>%</b> symbol."
   ]
  },
  {
   "cell_type": "code",
   "execution_count": 13,
   "metadata": {
    "collapsed": false
   },
   "outputs": [
    {
     "data": {
      "image/png": "[encoded data removed]",
      "text/plain": [
       "<matplotlib.figure.Figure at 0x135a8ea90>"
      ]
     },
     "metadata": {},
     "output_type": "display_data"
    }
   ],
   "source": [
    "%matplotlib inline\n",
    "fd = nltk.FreqDist(colText)\n",
    "fd.plot(25)"
   ]
  },
  {
   "cell_type": "markdown",
   "metadata": {},
   "source": [
    "As we can see from the chart above, `work` is the highest frequency word in our lemmatized corpus with stopwords applied, followed by `right`. The word `privacy` does not even occur in the list. The code below calculates the frequency and percentage of times these words occur in the text. While `work` makes up 0.56% of the total words in the text, `privacy` accounts for only 0.06%."
   ]
  },
  {
   "cell_type": "code",
   "execution_count": 14,
   "metadata": {
    "collapsed": false
   },
   "outputs": [
    {
     "name": "stdout",
     "output_type": "stream",
     "text": [
      "privacy: 806 times or 0.06%\n",
      "right: 5632 times or 0.41%\n",
      "work: 7588 times or 0.55%\n"
     ]
    }
   ],
   "source": [
    "print('privacy:',fd['privacy'], 'times or','{:.2%}'.format(float(colText.count(\"privacy\"))/(len(colText))))\n",
    "print('right:',fd['right'], 'times or','{:.2%}'.format(float(colText.count(\"right\"))/(len(colText))))\n",
    "print('work:',fd['work'], 'times or','{:.2%}'.format(float(colText.count(\"work\")/(len(colText)))))"
   ]
  },
  {
   "cell_type": "markdown",
   "metadata": {},
   "source": [
    "To calculate the mean, and standard deviation, we must count the frequency of all the words in the text and append those values to a list. Since the numbers in the list will actually be represented as text (not as integers), we must add an extra line of code to map those values so they can be used mathematically, calling on the `map` function."
   ]
  },
  {
   "cell_type": "code",
   "execution_count": 15,
   "metadata": {
    "collapsed": true
   },
   "outputs": [],
   "source": [
    "fdnums = []\n",
    "for sample in fd:\n",
    "    fdnums.append(fd[sample])\n",
    "numlist = list(map(int, fdnums))"
   ]
  },
  {
   "cell_type": "code",
   "execution_count": 16,
   "metadata": {
    "collapsed": false
   },
   "outputs": [
    {
     "name": "stdout",
     "output_type": "stream",
     "text": [
      "Total of unique words: 18924\n",
      "Total of words that appear only once: 5850\n",
      "Percentage of words that appear only once: 30.91%\n"
     ]
    }
   ],
   "source": [
    "print(\"Total of unique words:\", len(numlist))\n",
    "print(\"Total of words that appear only once:\", len(fd.hapaxes()))\n",
    "print(\"Percentage of words that appear only once:\",'{:.2%}'.format(len(fd.hapaxes())/len(numlist)))"
   ]
  },
  {
   "cell_type": "markdown",
   "metadata": {},
   "source": [
    "Once we have our numbers in a list, as the variable `numlist`, we can use the built in `statistics` library for our calculations. Below we've calculated the mean, standard deviation, and the variance. \n",
    "\n",
    "These numbers prove that the numerical data has a non-normal distribution. The mean is relatively low, compared to the highest frequency word, `work`, which appears a total of <u>7588</u> times. \n",
    "\n",
    "The low mean is due to the high number of low frequency words; there are <u>5847</u> words that appear only once, totalling 30% of the unique words in the entire set. The standard deviation is higher than the mean, which predicts a high variance of numbers in the set, something that is proven by the variance calculation. A large variance shows that the numbers in the set are far apart from the mean, and each other."
   ]
  },
  {
   "cell_type": "code",
   "execution_count": 17,
   "metadata": {
    "collapsed": false
   },
   "outputs": [
    {
     "name": "stdout",
     "output_type": "stream",
     "text": [
      "Mean: 72.26\n",
      "Standard Deviation: 301.35\n",
      "Variance: 90810.28\n"
     ]
    }
   ],
   "source": [
    "datamean = statistics.mean(numlist)\n",
    "print(\"Mean:\", '{:.2f}'.format(statistics.mean(numlist)))\n",
    "print(\"Standard Deviation:\", '{:.2f}'.format(statistics.pstdev(numlist,datamean)))\n",
    "print(\"Variance:\", '{:.2f}'.format(statistics.pvariance(numlist,datamean)))"
   ]
  },
  {
   "cell_type": "markdown",
   "metadata": {},
   "source": [
    "### Statistics "
   ]
  },
  {
   "cell_type": "markdown",
   "metadata": {},
   "source": [
    "##### Raw Frequency\n",
    "The frequency calculations determine both the actual number of occurences of the bigram in the corpus as well as the number of times the bigram occurs relative to the text as a whole (expressed as a percentage).\n",
    "\n",
    "##### Student's-T \n",
    "The Student's T-Score, also called the T-Score, measures the <b>confidence</b> of a claim of collocation and assigns a score based on that certainty. It is computed by subtracting the expected frequency of the bigram by the observed frequency of the bigram, and then dividing the result by the standard deviation which is calculated based on the overall size of the corpus. \n",
    "\n",
    "The benefit of using the T-Score is that it considers the evidence for collocates based on the overall amount of evidence provided by the size of the corpus. This differs from the PMI score (described below) which only considers strength based on relative frequencies. The drawbacks to the T-Score include its reliance on a normal distribution (due to the incorporation of standard deviation in the calculation), as well as its dependence on the overall size of the corpus. T-scores can't be compared across corpora of different sizes.\n",
    "\n",
    "##### Pointwise Mutual Information \n",
    "The Pointwise Mutual Information Score (known as PMI or MI) measures the <b>strength</b> of a collocation and assigns it a score. It is a probability-based calculation that compares the number of actual bigrams to the expected number of bigrams based on the relative frequency counts of the words. The test compares the expected figure to the observed figure, converting the difference to a number indicating the strength of the collocation.\n",
    "\n",
    "The benefit of using PMI is that the value of the score is not dependent on the overall size of the corpus, meaning that PMI scores can be compared across corpora of different sizes, unlike the T-score (described above).\n",
    "The drawback to the PMI is that it tends to give high scores to low frequency words when they occur most often in the proximity another word.\n",
    "\n",
    "##### Chi-square \n",
    "The Chi-square (or x<sup>2</sup>) measures the observed and expected frequencies of bigrams and assigns a score based on the amount of difference between the two using the standard deviation. The Chi-square is another test that relies on a normal distribution.\n",
    "\n",
    "The Chi-square shares the benefit of the T-score in taking into account the overall size of the corpus. The drawback of the Chi-square is that it doesn't do well with sparse data. This means that low-frequency (but significant) bigrams may not be represented very well, unlike the scores assigned by the PMI.\n",
    "\n",
    "##### Log-Likelihood Ratio\n",
    "The Log-likelihood ratio calculates the size and significance between the observed and expected frequencies of bigrams and assigns a score based on the result, taking into account the overall size of the corpus. The larger the difference between the observed and expected, the higher the score, and the more statistically significant the collocate is. \n",
    "\n",
    "The Log-likelihood ratio is my preferred test for collocates because it does not rely on a normal distribution, and for this reason, it can account for sparse or low frequency bigrams (unlike the Chi-square). But unlike the PMI, it does not over-represent low frequency bigrams with inflated scores, as the test is only reporting how much more likely it is that the frequencies are different than they are the same. The drawback to the Log-likelihood ratio, much like the t-score, is that it cannot be used to compare scores across corpora.\n"
   ]
  },
  {
   "cell_type": "markdown",
   "metadata": {},
   "source": [
    "-----"
   ]
  },
  {
   "cell_type": "markdown",
   "metadata": {},
   "source": [
    "The following code filters the results of the focused bigram search based on the statistical tests as described above, assigning the results to a new variable based on the test."
   ]
  },
  {
   "cell_type": "code",
   "execution_count": 18,
   "metadata": {
    "collapsed": true
   },
   "outputs": [],
   "source": [
    "# filter results based on statistical test\n",
    "\n",
    "# calulates the raw frequency as an actual number and percentage of total words\n",
    "act = finder.ngram_fd.items()\n",
    "raw = finder.score_ngrams(bigram_measures.raw_freq)\n",
    "# student's - t score\n",
    "tm = finder.score_ngrams(bigram_measures.student_t)\n",
    "# pointwise mutual information score\n",
    "pm = finder.score_ngrams(bigram_measures.pmi)\n",
    "# chi-square score\n",
    "ch = finder.score_ngrams(bigram_measures.chi_sq)\n",
    "# log-likelihood ratio\n",
    "log = finder.score_ngrams(bigram_measures.likelihood_ratio)"
   ]
  },
  {
   "cell_type": "markdown",
   "metadata": {},
   "source": [
    "Below are the results for the Log-likelihood test. The bigrams are sorted in order of significance, and the order of the words in the word-pairs shows their placement in the text. This means that the most significant bigram in the Log-likelihood test contained the words `digital privacy`, in that order. The word `digital` appears later on in the list with a lower score when it occurs after the word `privacy`. Scores above 3.8 are considered to be significant for the Log-likelihood test."
   ]
  },
  {
   "cell_type": "code",
   "execution_count": 19,
   "metadata": {
    "collapsed": false
   },
   "outputs": [
    {
     "name": "stdout",
     "output_type": "stream",
     "text": [
      "[(('digital', 'privacy'), 1397.6511076964484), (('protect', 'privacy'), 216.19283126051934), (('privacy', 'ethic'), 155.49454735086206), (('access', 'privacy'), 126.26364862627082), (('privacy', 'right'), 93.48873735947888), (('privacy', 'protection'), 85.17847164667435), (('expectation', 'privacy'), 76.17545376914723), (('information', 'privacy'), 69.74850394854096), (('privacy', 'digital'), 56.7286324225021), (('protection', 'privacy'), 50.03873587483582), (('privacy', 'personal'), 48.486986994367065), (('respect', 'privacy'), 44.179357937881434), (('online', 'privacy'), 42.69783005359312), (('privacy', 'privacy'), 42.11423659444699), (('privacy', 'organization'), 39.785019637773004), (('sector', 'privacy'), 38.19299263834245), (('privacy', 'express'), 35.517756223317924), (('privacy', 'greatly'), 34.803279472989615), (('privacy', 'auditor'), 34.75488327971552), (('breach', 'privacy'), 27.64194691688398), (('right', 'privacy'), 25.19756727223014), (('give', 'privacy'), 24.93715054525983), (('privacy', 'principle'), 22.09672740268535), (('apply', 'privacy'), 21.04633526913057), (('enforce', 'privacy'), 19.958743442187675), (('power', 'privacy'), 19.577632518133342), (('violation', 'privacy'), 19.465895554348958), (('consult', 'privacy'), 17.690026548961484), (('privacy', 'information'), 16.305338762388793), (('privacy', 'strengthen'), 15.405438184184135), (('privacy', 'power'), 15.120916316442985), (('privacy', 'law'), 14.845695248804292), (('loss', 'privacy'), 14.841748628732148), (('privacy', 'legislation'), 14.35650349954739), (('security', 'privacy'), 12.823494207965952), (('privacy', 'appear'), 12.632739563315408), (('privacy', 'consult'), 12.49003125457696), (('ensure', 'privacy'), 12.039172861434947), (('data', 'privacy'), 11.935988790972738), (('privacy', 'practice'), 11.469357499206314), (('privacy', 'recommendation'), 11.370338109791309), (('review', 'privacy'), 10.805171580022293), (('strengthen', 'privacy'), 10.701649872690068), (('privacy', 'expert'), 10.340839076113724), (('former', 'privacy'), 9.964728991168748), (('privacy', 'human'), 9.900803730658462), (('privacy', 'establish'), 9.593717963955536), (('privacy', 'propose'), 9.316341517374719), (('safe', 'privacy'), 8.869621885751815), (('privacy', 'officer'), 8.826246240820527), (('balance', 'privacy'), 8.54694963525027), (('privacy', 'require'), 8.496666188826298), (('privacy', 'policy'), 8.236436242434158), (('privacy', 'seek'), 8.127790925349842), (('report', 'privacy'), 6.2318272541418), (('regard', 'privacy'), 6.079233466390822), (('hear', 'privacy'), 5.547910305979199), (('privacy', 'respect'), 5.530832243826088), (('individual', 'privacy'), 5.409674708222935), (('privacy', 'individual'), 5.409674708222935), (('current', 'privacy'), 5.109066769984367), (('concern', 'privacy'), 4.749663946137449), (('privacy', 'clear'), 4.497235757499447), (('privacy', 'allow'), 4.490484232926312), (('privacy', 'report'), 3.9519032429155105), (('privacy', 'important'), 3.8176640387532563), (('privacy', 'provide'), 3.799030495337643), (('privacy', 'need'), 3.2702426445413417), (('privacy', 'come'), 3.2630693516431277), (('law', 'privacy'), 3.2435302019769017), (('privacy', 'protect'), 3.1630342625794468), (('privacy', 'security'), 3.03797451534685), (('privacy', 'actually'), 2.918418628588995), (('privacy', 'number'), 2.8422541841799562), (('privacy', 'even'), 2.704927495234097), (('privacy', 'concern'), 2.6362549753674456), (('allow', 'privacy'), 2.453306367832991), (('privacy', 'give'), 2.442764200389248), (('privacy', 'find'), 2.250960984511929), (('change', 'privacy'), 2.0644430678554357), (('talk', 'privacy'), 1.6706316123332297), (('privacy', 'business'), 1.4739090437312141), (('issue', 'privacy'), 0.9320128632262406), (('privacy', 'issue'), 0.9320128632262406), (('privacy', 'ensure'), 0.6148497196948837)]\n"
     ]
    }
   ],
   "source": [
    "print(log)"
   ]
  },
  {
   "cell_type": "markdown",
   "metadata": {},
   "source": [
    "Let's display this data as a table, and remove some of the extra decimal digits. Using the tabulate module, we call the variable `log`, set the table heading names (displayed in red), and set the number of decimal digits to 3 (indicated by `floatfmt=\".3f\"`), with the numbers aligned on the leftmost digit."
   ]
  },
  {
   "cell_type": "code",
   "execution_count": 20,
   "metadata": {
    "collapsed": false
   },
   "outputs": [
    {
     "name": "stdout",
     "output_type": "stream",
     "text": [
      "Collocate                      Log-Likelihood\n",
      "-----------------------------  ----------------\n",
      "('digital', 'privacy')         1397.651\n",
      "('protect', 'privacy')         216.193\n",
      "('privacy', 'ethic')           155.495\n",
      "('access', 'privacy')          126.264\n",
      "('privacy', 'right')           93.489\n",
      "('privacy', 'protection')      85.178\n",
      "('expectation', 'privacy')     76.175\n",
      "('information', 'privacy')     69.749\n",
      "('privacy', 'digital')         56.729\n",
      "('protection', 'privacy')      50.039\n",
      "('privacy', 'personal')        48.487\n",
      "('respect', 'privacy')         44.179\n",
      "('online', 'privacy')          42.698\n",
      "('privacy', 'privacy')         42.114\n",
      "('privacy', 'organization')    39.785\n",
      "('sector', 'privacy')          38.193\n",
      "('privacy', 'express')         35.518\n",
      "('privacy', 'greatly')         34.803\n",
      "('privacy', 'auditor')         34.755\n",
      "('breach', 'privacy')          27.642\n",
      "('right', 'privacy')           25.198\n",
      "('give', 'privacy')            24.937\n",
      "('privacy', 'principle')       22.097\n",
      "('apply', 'privacy')           21.046\n",
      "('enforce', 'privacy')         19.959\n",
      "('power', 'privacy')           19.578\n",
      "('violation', 'privacy')       19.466\n",
      "('consult', 'privacy')         17.690\n",
      "('privacy', 'information')     16.305\n",
      "('privacy', 'strengthen')      15.405\n",
      "('privacy', 'power')           15.121\n",
      "('privacy', 'law')             14.846\n",
      "('loss', 'privacy')            14.842\n",
      "('privacy', 'legislation')     14.357\n",
      "('security', 'privacy')        12.823\n",
      "('privacy', 'appear')          12.633\n",
      "('privacy', 'consult')         12.490\n",
      "('ensure', 'privacy')          12.039\n",
      "('data', 'privacy')            11.936\n",
      "('privacy', 'practice')        11.469\n",
      "('privacy', 'recommendation')  11.370\n",
      "('review', 'privacy')          10.805\n",
      "('strengthen', 'privacy')      10.702\n",
      "('privacy', 'expert')          10.341\n",
      "('former', 'privacy')          9.965\n",
      "('privacy', 'human')           9.901\n",
      "('privacy', 'establish')       9.594\n",
      "('privacy', 'propose')         9.316\n",
      "('safe', 'privacy')            8.870\n",
      "('privacy', 'officer')         8.826\n",
      "('balance', 'privacy')         8.547\n",
      "('privacy', 'require')         8.497\n",
      "('privacy', 'policy')          8.236\n",
      "('privacy', 'seek')            8.128\n",
      "('report', 'privacy')          6.232\n",
      "('regard', 'privacy')          6.079\n",
      "('hear', 'privacy')            5.548\n",
      "('privacy', 'respect')         5.531\n",
      "('individual', 'privacy')      5.410\n",
      "('privacy', 'individual')      5.410\n",
      "('current', 'privacy')         5.109\n",
      "('concern', 'privacy')         4.750\n",
      "('privacy', 'clear')           4.497\n",
      "('privacy', 'allow')           4.490\n",
      "('privacy', 'report')          3.952\n",
      "('privacy', 'important')       3.818\n",
      "('privacy', 'provide')         3.799\n",
      "('privacy', 'need')            3.270\n",
      "('privacy', 'come')            3.263\n",
      "('law', 'privacy')             3.244\n",
      "('privacy', 'protect')         3.163\n",
      "('privacy', 'security')        3.038\n",
      "('privacy', 'actually')        2.918\n",
      "('privacy', 'number')          2.842\n",
      "('privacy', 'even')            2.705\n",
      "('privacy', 'concern')         2.636\n",
      "('allow', 'privacy')           2.453\n",
      "('privacy', 'give')            2.443\n",
      "('privacy', 'find')            2.251\n",
      "('change', 'privacy')          2.064\n",
      "('talk', 'privacy')            1.671\n",
      "('privacy', 'business')        1.474\n",
      "('issue', 'privacy')           0.932\n",
      "('privacy', 'issue')           0.932\n",
      "('privacy', 'ensure')          0.615\n"
     ]
    }
   ],
   "source": [
    "print(tabulate(log, headers = [\"Collocate\", \"Log-Likelihood\"], floatfmt=\".3f\", numalign=\"left\"))"
   ]
  },
  {
   "cell_type": "markdown",
   "metadata": {},
   "source": [
    "Here we print the results of this table to a CSV file."
   ]
  },
  {
   "cell_type": "code",
   "execution_count": 21,
   "metadata": {
    "collapsed": false
   },
   "outputs": [],
   "source": [
    "with open('2015CompleteLog.csv','w') as f:\n",
    "    w = csv.writer(f)\n",
    "    w.writerows(log)"
   ]
  },
  {
   "cell_type": "markdown",
   "metadata": {},
   "source": [
    "While the table above is nice, it isn't formated exactly the way it could be, especially since we already know that privacy is one half of the bigram. I want to format the list so I can do some further processing in some spreadsheet software, including combining the scores of the bigrams (like `digital privacy` and `privacy digital`) so I can have one score for each word.\n",
    "\n",
    "The code below sorts the lists generated by each test by the first word in the bigram, appending them to a dictionary called `prefix_keys`, where each word is a key and the score is the value. Then, we sort the keys by the value with the highest score, and assign the new list to a new variable where we obscure the keys containing the word `privacy`. This code must be repeated for each test. \n",
    "\n",
    "For the purposes of this analysis, we will only output the two frequency tests and the Log-likelihood test."
   ]
  },
  {
   "cell_type": "code",
   "execution_count": 22,
   "metadata": {
    "collapsed": false
   },
   "outputs": [],
   "source": [
    "##################################################################\n",
    "################ sorts list of ACTUAL frequencies ################\n",
    "##################################################################\n",
    "\n",
    "# group bigrams by first and second word in bigram                                        \n",
    "prefix_keys = collections.defaultdict(list)\n",
    "for key, a in act:\n",
    "    # first word\n",
    "    prefix_keys[key[0]].append((key[1], a))\n",
    "     # second word\n",
    "    prefix_keys[key[1]].append((key[0], a))\n",
    "    \n",
    "# sort keyed bigrams by strongest association.                                  \n",
    "for key in prefix_keys:\n",
    "    prefix_keys[key].sort(key = lambda x: -x[1])\n",
    "\n",
    "# remove the word privacy and display the first 50 results\n",
    "actkeys = prefix_keys['privacy'][:50]\n",
    "\n",
    "##################################################################\n",
    "#### sorts list of RAW (expressed as percentage) frequencies #####\n",
    "##################################################################\n",
    "\n",
    "# group bigrams by first and second word in bigram                                         \n",
    "prefix_keys = collections.defaultdict(list)\n",
    "for key, r in raw:\n",
    "    # first word\n",
    "    prefix_keys[key[0]].append((key[1], r))\n",
    "    # second word\n",
    "    prefix_keys[key[1]].append((key[0], r))\n",
    "    \n",
    "# sort keyed bigrams by strongest association.                                  \n",
    "for key in prefix_keys:\n",
    "    prefix_keys[key].sort(key = lambda x: -x[1])\n",
    "\n",
    "rawkeys = prefix_keys['privacy'][:50]\n",
    "\n",
    "##################################################################\n",
    "############### sorts list of log-likelihood scores ##############\n",
    "##################################################################\n",
    "\n",
    "# group bigrams by first and second word in bigram                                        \n",
    "prefix_keys = collections.defaultdict(list)\n",
    "for key, l in log:\n",
    "    # first word\n",
    "    prefix_keys[key[0]].append((key[1], l))\n",
    "    # second word\n",
    "    prefix_keys[key[1]].append((key[0], l))\n",
    "    \n",
    "# sort bigrams by strongest association                                  \n",
    "for key in prefix_keys:\n",
    "    prefix_keys[key].sort(key = lambda x: -x[1])\n",
    "\n",
    "logkeys = prefix_keys['privacy'][:50]"
   ]
  },
  {
   "cell_type": "markdown",
   "metadata": {},
   "source": [
    "Let's take a look at the new list of scores for the Log-likelihood test, with the word `privacy` removed. Nothing has changed here except the formatting."
   ]
  },
  {
   "cell_type": "code",
   "execution_count": 23,
   "metadata": {
    "collapsed": false,
    "scrolled": true
   },
   "outputs": [
    {
     "name": "stdout",
     "output_type": "stream",
     "text": [
      "Collocate       Log-Likelihood\n",
      "--------------  ----------------\n",
      "digital         1397.651\n",
      "protect         216.193\n",
      "ethic           155.495\n",
      "access          126.264\n",
      "right           93.489\n",
      "protection      85.178\n",
      "expectation     76.175\n",
      "information     69.749\n",
      "digital         56.729\n",
      "protection      50.039\n",
      "personal        48.487\n",
      "respect         44.179\n",
      "online          42.698\n",
      "privacy         42.114\n",
      "privacy         42.114\n",
      "organization    39.785\n",
      "sector          38.193\n",
      "express         35.518\n",
      "greatly         34.803\n",
      "auditor         34.755\n",
      "breach          27.642\n",
      "right           25.198\n",
      "give            24.937\n",
      "principle       22.097\n",
      "apply           21.046\n",
      "enforce         19.959\n",
      "power           19.578\n",
      "violation       19.466\n",
      "consult         17.690\n",
      "information     16.305\n",
      "strengthen      15.405\n",
      "power           15.121\n",
      "law             14.846\n",
      "loss            14.842\n",
      "legislation     14.357\n",
      "security        12.823\n",
      "appear          12.633\n",
      "consult         12.490\n",
      "ensure          12.039\n",
      "data            11.936\n",
      "practice        11.469\n",
      "recommendation  11.370\n",
      "review          10.805\n",
      "strengthen      10.702\n",
      "expert          10.341\n",
      "former          9.965\n",
      "human           9.901\n",
      "establish       9.594\n",
      "propose         9.316\n",
      "safe            8.870\n"
     ]
    }
   ],
   "source": [
    "from tabulate import tabulate\n",
    "print(tabulate(logkeys, headers = [\"Collocate\", \"Log-Likelihood\"], floatfmt=\".3f\", numalign=\"left\"))"
   ]
  },
  {
   "cell_type": "markdown",
   "metadata": {},
   "source": [
    "Again, just for reference, these are the 25 top Log-Likelhood scores for 2015 without the stopwords applied."
   ]
  },
  {
   "cell_type": "raw",
   "metadata": {},
   "source": [
    "Collocate     Log-Likelihood\n",
    "------------  ----------------\n",
    "commissioner  2526.639692684\n",
    "digital       1645.943598842\n",
    "the           778.568954598\n",
    "act           600.684800536\n",
    "and           117.297111827\n",
    "right         107.573441279\n",
    "protection    94.322301426\n",
    "their         62.085308377\n",
    "protect       58.045722275\n",
    "online        57.526177072\n",
    "sector        51.091917412\n",
    "interim       40.912165767\n",
    "to            36.187103272\n",
    "law           30.168200789\n",
    "the           29.228587343\n",
    "of            27.547037820\n",
    "which         22.595494211\n",
    "practice      21.302055792\n",
    "daniel        20.643040763\n",
    "strengthen    18.703927899\n",
    "expert        18.313791177\n",
    "a             18.065369736\n",
    "legislation   14.152985001\n",
    "policy        12.467935832\n",
    "current       12.367826207"
   ]
  },
  {
   "cell_type": "markdown",
   "metadata": {},
   "source": [
    "Here we will write the sorted results of the tests to a CSV file. "
   ]
  },
  {
   "cell_type": "code",
   "execution_count": null,
   "metadata": {
    "collapsed": false
   },
   "outputs": [],
   "source": [
    "with open('2015collocate_Act.csv','w') as f:\n",
    "    w = csv.writer(f)\n",
    "    w.writerows(actkeys)\n",
    "\n",
    "with open('2015collocate_Raw.csv','w') as f:\n",
    "    w = csv.writer(f)\n",
    "    w.writerows(rawkeys)\n",
    "    \n",
    "with open('2015collocate_Log.csv','w') as f:\n",
    "    w = csv.writer(f)\n",
    "    w.writerows(logkeys)"
   ]
  },
  {
   "cell_type": "markdown",
   "metadata": {},
   "source": [
    "What is immediately apparent from the Log-likelihood scores is that there are distinct types of words that co-occur with the word privacy. The top 10 most frequently co-occuring words are digital, protect, ethic, access, right, protection, expectation, and information. Based on this list alone, we can deduce that privacy in the Hansard corpus is a serious topic; one that is concerned with ethics and rights, which are things commonly associated with the law. We can also see that privacy has both a digital and an informational aspect, which are things that have an expectation of both access and protection. \n",
    "\n",
    "While it may seem obvious that these kinds of words would co-occur with privacy, we now have statistical evidence upon which to build our claim. "
   ]
  },
  {
   "cell_type": "markdown",
   "metadata": {},
   "source": [
    "-----"
   ]
  },
  {
   "cell_type": "markdown",
   "metadata": {},
   "source": [
    "### Part 2: Reading the whole corpus"
   ]
  },
  {
   "cell_type": "markdown",
   "metadata": {},
   "source": [
    "Here we repeat the above code, only instead of using one file, we will combine all of the files to obtain the scores for the entire corpus."
   ]
  },
  {
   "cell_type": "code",
   "execution_count": null,
   "metadata": {
    "collapsed": false
   },
   "outputs": [],
   "source": [
    "corpus = []\n",
    "for filename in list_textfiles('data'):\n",
    "    text_2 = read_file(filename)\n",
    "    words_2 = text_2.split()\n",
    "    clean_2 = [w.lower() for w in words_2 if w.isalpha()]\n",
    "    text_2 = [w for w in clean_2 if w not in hansardStopwords]\n",
    "    corpus.append(text_2)"
   ]
  },
  {
   "cell_type": "code",
   "execution_count": null,
   "metadata": {
    "collapsed": false
   },
   "outputs": [],
   "source": [
    "lemm_2 = []\n",
    "for doc in corpus:\n",
    "    for word in doc:\n",
    "        lemm_2.append(wnl.lemmatize(word, 'v'))\n",
    "lems_2 = []\n",
    "for word in lemm_2:\n",
    "    lems_2.append(wnl.lemmatize(word, 'n'))"
   ]
  },
  {
   "cell_type": "code",
   "execution_count": null,
   "metadata": {
    "collapsed": false
   },
   "outputs": [],
   "source": [
    "# prints the 10 most common multi-word pairs (n-grams)\n",
    "colText_2 = nltk.Text(lems_2)\n",
    "colText_2.collocations(10) "
   ]
  },
  {
   "cell_type": "code",
   "execution_count": null,
   "metadata": {
    "collapsed": false
   },
   "outputs": [],
   "source": [
    "# bigrams\n",
    "finder_2 = BigramCollocationFinder.from_words(lems_2)\n",
    "# only bigrams that appear 4+ times\n",
    "finder_2.apply_freq_filter(4)\n",
    "# only bigrams that contain 'privacy'\n",
    "finder_2.apply_ngram_filter(privacy_filter)"
   ]
  },
  {
   "cell_type": "code",
   "execution_count": null,
   "metadata": {
    "collapsed": true
   },
   "outputs": [],
   "source": [
    "# filter results based on statistical test\n",
    "act_2 = finder_2.ngram_fd.items()\n",
    "raw_2 = finder_2.score_ngrams(bigram_measures.raw_freq)\n",
    "log_2 = finder_2.score_ngrams(bigram_measures.likelihood_ratio)"
   ]
  },
  {
   "cell_type": "code",
   "execution_count": null,
   "metadata": {
    "collapsed": false
   },
   "outputs": [],
   "source": [
    "##################################################################\n",
    "################ sorts list of ACTUAL frequencies ################\n",
    "##################################################################\n",
    "\n",
    "# group bigrams by first and second word in bigram                                        \n",
    "prefix_keys = collections.defaultdict(list)\n",
    "for key, a in act_2:\n",
    "    # first word\n",
    "    prefix_keys[key[0]].append((key[1], a))\n",
    "     # second word\n",
    "    prefix_keys[key[1]].append((key[0], a))\n",
    "    \n",
    "# sort keyed bigrams by strongest association.                                  \n",
    "for key in prefix_keys:\n",
    "    prefix_keys[key].sort(key = lambda x: -x[1])\n",
    "\n",
    "# remove the word privacy and display the first 50 results\n",
    "actkeys_2 = prefix_keys['privacy'][:50]\n",
    "\n",
    "##################################################################\n",
    "#### sorts list of RAW (expressed as percentage) frequencies #####\n",
    "##################################################################\n",
    "\n",
    "# group bigrams by first and second word in bigram                                         \n",
    "prefix_keys = collections.defaultdict(list)\n",
    "for key, r in raw_2:\n",
    "    # first word\n",
    "    prefix_keys[key[0]].append((key[1], r))\n",
    "    # second word\n",
    "    prefix_keys[key[1]].append((key[0], r))\n",
    "    \n",
    "# sort keyed bigrams by strongest association.                                  \n",
    "for key in prefix_keys:\n",
    "    prefix_keys[key].sort(key = lambda x: -x[1])\n",
    "\n",
    "rawkeys_2 = prefix_keys['privacy'][:50]\n",
    "\n",
    "##################################################################\n",
    "############### sorts list of log-likelihood scores ##############\n",
    "##################################################################\n",
    "\n",
    "# group bigrams by first and second word in bigram                                        \n",
    "prefix_keys = collections.defaultdict(list)\n",
    "for key, l in log_2:\n",
    "    # first word\n",
    "    prefix_keys[key[0]].append((key[1], l))\n",
    "    # second word\n",
    "    prefix_keys[key[1]].append((key[0], l))\n",
    "    \n",
    "# sort bigrams by strongest association                                  \n",
    "for key in prefix_keys:\n",
    "    prefix_keys[key].sort(key = lambda x: -x[1])\n",
    "\n",
    "logkeys_2 = prefix_keys['privacy'][:50]"
   ]
  },
  {
   "cell_type": "code",
   "execution_count": null,
   "metadata": {
    "collapsed": false,
    "scrolled": true
   },
   "outputs": [],
   "source": [
    "from tabulate import tabulate\n",
    "print(tabulate(logkeys_2, headers = [\"Collocate\", \"Log-Likelihood\"], floatfmt=\".3f\", numalign=\"left\"))"
   ]
  },
  {
   "cell_type": "code",
   "execution_count": null,
   "metadata": {
    "collapsed": false
   },
   "outputs": [],
   "source": [
    "with open('Allcollocate_Act.csv','w') as f:\n",
    "    w = csv.writer(f)\n",
    "    w.writerows(actkeys_2)\n",
    "\n",
    "with open('Allcollocate_Raw.csv','w') as f:\n",
    "    w = csv.writer(f)\n",
    "    w.writerows(rawkeys_2)\n",
    "    \n",
    "with open('Allcollocate_Log.csv','w') as f:\n",
    "    w = csv.writer(f)\n",
    "    w.writerows(logkeys_2)"
   ]
  },
  {
   "cell_type": "markdown",
   "metadata": {},
   "source": [
    "The processed spreadsheet including the cumulative scores for all the bigrams for each test for every year and Parliament can be accessed here: <a href=\"HansardCollocationTable.xlsx\" target=blank>Hansard Collocation Table</a>. If you plan to use the data, please cite appropriately."
   ]
  }
 ],
 "metadata": {
  "kernelspec": {
   "display_name": "Python 3",
   "language": "python",
   "name": "python3"
  },
  "language_info": {
   "codemirror_mode": {
    "name": "ipython",
    "version": 3
   },
   "file_extension": ".py",
   "mimetype": "text/x-python",
   "name": "python",
   "nbconvert_exporter": "python",
   "pygments_lexer": "ipython3",
   "version": "3.5.0"
  }
 },
 "nbformat": 4,
 "nbformat_minor": 0
}
